{
 "cells": [
  {
   "cell_type": "code",
   "execution_count": 1,
   "metadata": {
    "id": "KBwI5b0dt76X"
   },
   "outputs": [],
   "source": [
    "# Importing libraries\n",
    "import PIL\n",
    "import matplotlib.pyplot as plt\n",
    "import os\n",
    "import pandas as pd\n",
    "import cv2\n",
    "import numpy as np\n",
    "import tensorflow as tf\n",
    "from tensorflow.keras import datasets, layers, models\n",
    "from sklearn.model_selection import train_test_split\n",
    "\n",
    "from sklearn.metrics import confusion_matrix , classification_report\n",
    "import numpy as np\n",
    "import keras\n",
    "import warnings\n",
    "warnings.filterwarnings('ignore')"
   ]
  },
  {
   "cell_type": "code",
   "execution_count": 2,
   "metadata": {},
   "outputs": [],
   "source": [
    "DATADIR =\"C:/Users/Shimanshu/Downloads/Val_Test\"\n",
    "CATEGORIES = ['0','1','2','3','4']"
   ]
  },
  {
   "cell_type": "code",
   "execution_count": 3,
   "metadata": {},
   "outputs": [],
   "source": [
    "# creating the training dataset using the images of all 5 categories\n",
    "\n",
    "test_data = []\n",
    "IMG_SIZE = 200\n",
    "def create_test_data():  # function to create an array of images\n",
    "    for category in CATEGORIES:\n",
    "        path = os.path.join(DATADIR,category)\n",
    "        class_num = CATEGORIES.index(category)\n",
    "        for img in os.listdir(path):\n",
    "            img_array = cv2.imread(os.path.join(path,img))\n",
    "            try:\n",
    "                new_array = cv2.resize(img_array,(IMG_SIZE,IMG_SIZE)) # resizing the image\n",
    "                image_bw = cv2.cvtColor(new_array, cv2.COLOR_BGR2GRAY)\n",
    "                clahe = cv2.createCLAHE(clipLimit = 5)\n",
    "                final_img = clahe.apply(image_bw)\n",
    "                final_img = cv2.cvtColor(final_img, cv2.COLOR_GRAY2BGR)\n",
    "            except:\n",
    "                continue\n",
    "            test_data.append([final_img,class_num])\n",
    "\n",
    "create_test_data()\n",
    "\n",
    "# empty lists to append images and labels\n",
    "X = []\n",
    "y = []\n",
    "# appending images to list X and labels to list Y\n",
    "for features,label in test_data:\n",
    "    X.append(features)\n",
    "    y.append(label)\n",
    "X = np.array(X)\n",
    "\n",
    "# normalising the data\n",
    "X_test = X/255\n",
    "y_test = y\n",
    "\n",
    "# converting the train and test data into arrays\n",
    "X_test = np.array(X_test)\n",
    "\n",
    "model = keras.models.load_model(f\"prath_1.h5\")\n",
    "y_pred = model.predict(X_test)\n",
    "y_pred_classes_1=[]\n",
    "for i in y_pred:\n",
    "    if i>0.5:\n",
    "        y_pred_classes_1.append(1)\n",
    "    else:\n",
    "        y_pred_classes_1.append(0)\n",
    "\n",
    "        \n",
    "model = keras.models.load_model(f\"v3_4vs23_2.h5\")\n",
    "y_pred_3 = model.predict(X_test)\n",
    "y_pred_classes_3=[]\n",
    "for i in y_pred_3:\n",
    "    if i>0.5:\n",
    "        y_pred_classes_3.append(1)\n",
    "    else:\n",
    "        y_pred_classes_3.append(0)\n",
    "\n",
    "        \n",
    "        \n",
    "model = keras.models.load_model(f\"shubh_1.h5\")\n",
    "y_pred_4 = model.predict(X_test)\n",
    "\n",
    "y_pred_classes_4=[]\n",
    "for i in y_pred_4:\n",
    "    if i>0.5:\n",
    "        y_pred_classes_4.append(1)\n",
    "    else:\n",
    "        y_pred_classes_4.append(0) \n",
    "\n"
   ]
  },
  {
   "cell_type": "code",
   "execution_count": 4,
   "metadata": {},
   "outputs": [],
   "source": [
    "# creating the training dataset using the images of all 5 categories\n",
    "\n",
    "test_data = []\n",
    "IMG_SIZE = 299\n",
    "def create_test_data():  # function to create an array of images\n",
    "    for category in CATEGORIES:\n",
    "        path = os.path.join(DATADIR,category)\n",
    "        class_num = CATEGORIES.index(category)\n",
    "        for img in os.listdir(path):\n",
    "            img_array = cv2.imread(os.path.join(path,img))\n",
    "            try:\n",
    "                new_array = cv2.resize(img_array,(IMG_SIZE,IMG_SIZE)) # resizing the image\n",
    "                image_bw = cv2.cvtColor(new_array, cv2.COLOR_BGR2GRAY)\n",
    "                clahe = cv2.createCLAHE(clipLimit = 5)\n",
    "                final_img = clahe.apply(image_bw)\n",
    "                final_img = cv2.cvtColor(final_img, cv2.COLOR_GRAY2BGR)   \n",
    "            except:\n",
    "                continue\n",
    "            test_data.append([final_img,class_num])\n",
    "\n",
    "create_test_data()\n",
    "\n",
    "# empty lists to append images and labels\n",
    "X = []\n",
    "y = []\n",
    "X_test=[]\n",
    "y_test=[]\n",
    "# appending images to list X and labels to list Y\n",
    "for features,label in test_data:\n",
    "    X_test.append(features)\n",
    "    y_test.append(label)\n",
    "X_test = np.array(X_test)\n",
    "\n",
    "# normalising the data\n",
    "X_test = X_test/255\n",
    "test_data=[]\n",
    "new_array=[]\n",
    "image_bw=[]\n",
    "final_img=[]\n",
    "# converting the train and test data into arrays\n",
    "\n",
    "model=np.array([])\n",
    "model = keras.models.load_model(f\"shim.h5\")\n",
    "y_pred_2 = model.predict(X_test)\n",
    "y_pred_classes_2= []\n",
    "for i in y_pred_2:\n",
    "    if i>0.5:\n",
    "        y_pred_classes_2.append(1)\n",
    "    else:\n",
    "        y_pred_classes_2.append(0) "
   ]
  },
  {
   "cell_type": "code",
   "execution_count": 5,
   "metadata": {},
   "outputs": [
    {
     "name": "stdout",
     "output_type": "stream",
     "text": [
      "              precision    recall  f1-score   support\n",
      "\n",
      "           0       0.98      0.98      0.98       367\n",
      "           1       0.81      0.85      0.83        86\n",
      "           2       0.69      0.75      0.72       123\n",
      "           3       0.56      0.34      0.43        29\n",
      "           4       0.73      0.66      0.69        41\n",
      "\n",
      "    accuracy                           0.87       646\n",
      "   macro avg       0.75      0.72      0.73       646\n",
      "weighted avg       0.87      0.87      0.87       646\n",
      "\n"
     ]
    }
   ],
   "source": [
    " l=[]\n",
    "for z in range(len(y_test)):\n",
    "    if y_pred_classes_1[z]==0:\n",
    "        l.append(0)\n",
    "        continue\n",
    "    else:\n",
    "        if y_pred_classes_2[z]==0:\n",
    "            l.append(1)\n",
    "            continue\n",
    "        else:\n",
    "            if y_pred_classes_3[z]==1:\n",
    "                l.append(4)\n",
    "                continue\n",
    "            else:\n",
    "                if y_pred_classes_4[z]==0:\n",
    "                    l.append(2)\n",
    "                    continue\n",
    "                else:\n",
    "                    l.append(3)\n",
    "report=classification_report(y_test,l)\n",
    "print(report)\n",
    "a=confusion_matrix(y_test,l)"
   ]
  },
  {
   "cell_type": "code",
   "execution_count": 6,
   "metadata": {},
   "outputs": [
    {
     "data": {
      "text/plain": [
       "array([[360,   3,   4,   0,   0],\n",
       "       [  4,  73,   8,   1,   0],\n",
       "       [  4,  13,  92,   6,   8],\n",
       "       [  0,   1,  16,  10,   2],\n",
       "       [  0,   0,  13,   1,  27]], dtype=int64)"
      ]
     },
     "execution_count": 6,
     "metadata": {},
     "output_type": "execute_result"
    }
   ],
   "source": [
    "a"
   ]
  },
  {
   "cell_type": "code",
   "execution_count": null,
   "metadata": {},
   "outputs": [],
   "source": []
  }
 ],
 "metadata": {
  "colab": {
   "collapsed_sections": [],
   "provenance": []
  },
  "kernelspec": {
   "display_name": "Python 3 (ipykernel)",
   "language": "python",
   "name": "python3"
  },
  "language_info": {
   "codemirror_mode": {
    "name": "ipython",
    "version": 3
   },
   "file_extension": ".py",
   "mimetype": "text/x-python",
   "name": "python",
   "nbconvert_exporter": "python",
   "pygments_lexer": "ipython3",
   "version": "3.9.12"
  }
 },
 "nbformat": 4,
 "nbformat_minor": 1
}
